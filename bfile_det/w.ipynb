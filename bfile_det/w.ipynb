{
 "cells": [
  {
   "cell_type": "code",
   "execution_count": null,
   "metadata": {},
   "outputs": [],
   "source": [
    "import numpy as np\n",
    "import os\n",
    "from hilbert_curve import hilbertize_arr\n",
    "import matplotlib.pyplot as plt\n",
    "import random\n",
    "\n",
    "with open('g_files.txt', 'r') as f:\n",
    "    lines = f.read().split('\\n')\n",
    "    # print(lines)\n",
    "\n",
    "ghash = {}\n",
    "for l in lines:\n",
    "    ghash.update({l: True})\n",
    "\n",
    "b_train = []\n",
    "\n",
    "fp_train = './additional_bexe'\n",
    "\n",
    "fp_arr = os.listdir(fp_train)\n",
    "fp_arr.reverse()\n",
    "\n",
    "count = 0\n",
    "for file in fp_arr:\n",
    "    try:\n",
    "        tmp = ghash[file]\n",
    "        fp = fp_train\n",
    "        bytes = np.array([f\"{n:08b}\" for n in open(fp + '/' + file, \"rb\").read()])\n",
    "        for i in range(len(bytes)):\n",
    "            bytes[i] = int(bytes[i], 2)\n",
    "\n",
    "        bytes = bytes.astype(np.uint8)\n",
    "\n",
    "        arr = hilbertize_arr(bytes)\n",
    "        b_train.append(arr)\n",
    "\n",
    "        print(f'[ Processed File {count} => {file} ]')\n",
    "        count += 1\n",
    "        # plt.imshow(arr)\n",
    "        # break\n",
    "    except KeyError:\n",
    "        pass\n",
    "\n",
    "plt.imshow(b_train[random.randint(0, len(b_train)-1)])"
   ]
  }
 ],
 "metadata": {
  "kernelspec": {
   "display_name": "Python 3.10.5 64-bit (windows store)",
   "language": "python",
   "name": "python3"
  },
  "language_info": {
   "name": "python",
   "version": "3.10.5"
  },
  "orig_nbformat": 4,
  "vscode": {
   "interpreter": {
    "hash": "6be3f57eb9c87b6b4f6f83f778a107c8a0106eaf2d3a0c29eb7af43003741456"
   }
  }
 },
 "nbformat": 4,
 "nbformat_minor": 2
}
