{
 "cells": [
  {
   "cell_type": "code",
   "execution_count": 2,
   "metadata": {},
   "outputs": [
    {
     "name": "stderr",
     "output_type": "stream",
     "text": [
      "C:\\Users\\Student\\AppData\\Local\\Temp\\ipykernel_15332\\1019094648.py:25: VisibleDeprecationWarning: Creating an ndarray from ragged nested sequences (which is a list-or-tuple of lists-or-tuples-or ndarrays with different lengths or shapes) is deprecated. If you meant to do this, you must specify 'dtype=object' when creating the ndarray.\n",
      "  dataset = np.array(b_train + b_test + v_files[:len(b_train) + len(b_test) - 2])\n"
     ]
    }
   ],
   "source": [
    "import numpy as np\n",
    "import matplotlib.pyplot as plt\n",
    "import cv2 \n",
    "import os\n",
    "import random\n",
    "from sklearn.model_selection import train_test_split\n",
    "\n",
    "def create_img_dset(fp, label):\n",
    "    dset = []\n",
    "    for file in os.listdir(fp):\n",
    "        curr_fp = fp + f'/{file}'\n",
    "        img = cv2.imread(curr_fp)\n",
    "\n",
    "        dset.append((img, label))\n",
    "    \n",
    "    return dset\n",
    "\n",
    "b_train = create_img_dset('./b_train', 0)\n",
    "b_test = create_img_dset('./b_test', 0)\n",
    "v_files = create_img_dset('./v_files_preprocessed/', 1)\n",
    "\n",
    "b_train_labels = [0 for i in range(len(b_train))]\n",
    "b_test_labels = [0 for i in range(len(b_test))]\n",
    "\n",
    "dataset = np.array(b_train + b_test + v_files[:len(b_train) + len(b_test) - 2])\n",
    "\n",
    "X_train, X_test, y_train, y_test = train_test_split(dataset[:, 0], dataset[:, 1], test_size=0.2, random_state=42)"
   ]
  },
  {
   "cell_type": "code",
   "execution_count": 3,
   "metadata": {},
   "outputs": [
    {
     "data": {
      "text/plain": [
       "(array([793., 805.]),\n",
       " array([0.0, 0.5, 1.0], dtype=object),\n",
       " <BarContainer object of 2 artists>)"
      ]
     },
     "execution_count": 3,
     "metadata": {},
     "output_type": "execute_result"
    },
    {
     "data": {
      "image/png": "[encoded data removed]",
      "text/plain": [
       "<Figure size 432x288 with 1 Axes>"
      ]
     },
     "metadata": {
      "needs_background": "light"
     },
     "output_type": "display_data"
    }
   ],
   "source": [
    "plt.hist(y_train, bins=2)"
   ]
  },
  {
   "cell_type": "code",
   "execution_count": 4,
   "metadata": {},
   "outputs": [
    {
     "data": {
      "text/plain": [
       "(array([207., 193.]),\n",
       " array([0.0, 0.5, 1.0], dtype=object),\n",
       " <BarContainer object of 2 artists>)"
      ]
     },
     "execution_count": 4,
     "metadata": {},
     "output_type": "execute_result"
    },
    {
     "data": {
      "image/png": "[encoded data removed]",
      "text/plain": [
       "<Figure size 432x288 with 1 Axes>"
      ]
     },
     "metadata": {
      "needs_background": "light"
     },
     "output_type": "display_data"
    }
   ],
   "source": [
    "plt.hist(y_test, bins=2)"
   ]
  },
  {
   "cell_type": "code",
   "execution_count": 5,
   "metadata": {},
   "outputs": [
    {
     "name": "stdout",
     "output_type": "stream",
     "text": [
      "[1. 0. 0. ... 0. 0. 0.]\n"
     ]
    },
    {
     "data": {
      "text/plain": [
       "(array([6.43e+02, 5.80e+01, 6.30e+01, 9.50e+01, 1.22e+02, 1.29e+03,\n",
       "        1.93e+02, 3.90e+01, 1.80e+01, 1.60e+01, 1.80e+01, 1.00e+00,\n",
       "        0.00e+00, 1.00e+00, 3.50e+01]),\n",
       " array([0.        , 0.06666667, 0.13333333, 0.2       , 0.26666667,\n",
       "        0.33333333, 0.4       , 0.46666667, 0.53333333, 0.6       ,\n",
       "        0.66666667, 0.73333333, 0.8       , 0.86666667, 0.93333333,\n",
       "        1.        ]),\n",
       " <BarContainer object of 15 artists>)"
      ]
     },
     "execution_count": 5,
     "metadata": {},
     "output_type": "execute_result"
    },
    {
     "data": {
      "image/png": "[encoded data removed]",
      "text/plain": [
       "<Figure size 432x288 with 1 Axes>"
      ]
     },
     "metadata": {
      "needs_background": "light"
     },
     "output_type": "display_data"
    }
   ],
   "source": [
    "# Histogram of Gradients Feature Extraction\n",
    "from skimage.feature import hog\n",
    "from skimage import data, exposure\n",
    "\n",
    "img = b_train[500][0]\n",
    "# plt.imshow(img)\n",
    "\n",
    "def get_hog(img: np.ndarray):\n",
    "    fd, hog_image = hog(img, orientations=8, pixels_per_cell=(16, 16), cells_per_block=(1, 1), visualize=True, channel_axis=-1)\n",
    "\n",
    "    hog_image_rescaled = exposure.rescale_intensity(hog_image) #, in_range(0, 10))\n",
    "\n",
    "    return fd\n",
    "\n",
    "fd = get_hog(img)\n",
    "print(fd)\n",
    "\n",
    "plt.hist(fd, bins=15)\n",
    "\n",
    "# plt.imshow(hog_image_rescaled)\n",
    "# plt.imshow(hog_image)"
   ]
  },
  {
   "cell_type": "code",
   "execution_count": 6,
   "metadata": {},
   "outputs": [],
   "source": [
    "nxtrain = []\n",
    "nxtest = []\n",
    "\n",
    "def preprocess_dat(arr: list) -> np.ndarray:\n",
    "    new_arr = []\n",
    "\n",
    "    for i in range(len(arr)):\n",
    "        new_arr.append(get_hog(img))\n",
    "    \n",
    "    return np.array(new_arr)\n",
    "\n",
    "nxtrain = preprocess_dat(X_train)\n",
    "nxtest = preprocess_dat(X_test)"
   ]
  },
  {
   "cell_type": "code",
   "execution_count": 7,
   "metadata": {},
   "outputs": [
    {
     "name": "stdout",
     "output_type": "stream",
     "text": [
      "(2592,)\n",
      "[1. 0. 0. ... 0. 0. 0.]\n"
     ]
    }
   ],
   "source": [
    "print(nxtrain[100].shape)\n",
    "print(nxtest[100])"
   ]
  },
  {
   "cell_type": "code",
   "execution_count": 9,
   "metadata": {},
   "outputs": [],
   "source": [
    "import torch\n",
    "import torch.nn as nn\n",
    "import torch.nn.functional as F\n",
    "\n",
    "class MLP(nn.Module):\n",
    "    def __init__(self):\n",
    "        super().__init__()\n",
    "        self.l1 = nn.Linear(2592, 128)\n",
    "        self.l2 = nn.Linear(128, 64)\n",
    "        self.l3 = nn.Linear(64, 1)\n",
    "    \n",
    "    def forward(self, x):\n",
    "        x = F.relu(self.l1(x))\n",
    "\n",
    "        x = F.relu(self.l2(x))\n",
    "\n",
    "        x = F.relu(self.l3(x))\n",
    "\n",
    "        return torch.sigmoid(x)"
   ]
  },
  {
   "cell_type": "code",
   "execution_count": 19,
   "metadata": {},
   "outputs": [
    {
     "name": "stdout",
     "output_type": "stream",
     "text": [
      "[ Epoch 0 Loss 0.6944791900276094 ]\n",
      "[ Epoch 1 Loss 0.694494555269523 ]\n",
      "[ Epoch 2 Loss 0.6944945561274122 ]\n",
      "[ Epoch 3 Loss 0.6944945568734027 ]\n",
      "[ Epoch 4 Loss 0.6944945556798178 ]\n",
      "[ Epoch 5 Loss 0.6944945567615041 ]\n",
      "[ Epoch 6 Loss 0.6944945571344994 ]\n",
      "[ Epoch 7 Loss 0.6944945576939923 ]\n",
      "[ Epoch 8 Loss 0.6944945561274122 ]\n",
      "[ Epoch 9 Loss 0.6944945571344994 ]\n",
      "[ Epoch 10 Loss 0.6944945569107023 ]\n",
      "[ Epoch 11 Loss 0.6944945575820937 ]\n",
      "[ Epoch 12 Loss 0.6944945543743344 ]\n",
      "[ Epoch 13 Loss 0.694494555269523 ]\n",
      "[ Epoch 14 Loss 0.6944945569480018 ]\n",
      "[ Epoch 15 Loss 0.6944945554187212 ]\n",
      "[ Epoch 16 Loss 0.6944945570226008 ]\n",
      "[ Epoch 17 Loss 0.6944945584772824 ]\n",
      "[ Epoch 18 Loss 0.6944945566496056 ]\n",
      "[ Epoch 19 Loss 0.6944945566869051 ]\n",
      "[ Epoch 20 Loss 0.6944945553441221 ]\n",
      "[ Epoch 21 Loss 0.6944945574328956 ]\n",
      "[ Epoch 22 Loss 0.6944945578058909 ]\n",
      "[ Epoch 23 Loss 0.6944945556425183 ]\n",
      "[ Epoch 24 Loss 0.6944945581788862 ]\n",
      "[ Epoch 25 Loss 0.694494554560832 ]\n",
      "[ Epoch 26 Loss 0.6944945591859734 ]\n",
      "[ Epoch 27 Loss 0.6944945548592282 ]\n",
      "[ Epoch 28 Loss 0.6944945562393108 ]\n",
      "[ Epoch 29 Loss 0.6944945563139098 ]\n",
      "[ Epoch 30 Loss 0.6944945572836975 ]\n",
      "[ Epoch 31 Loss 0.6944945579923886 ]\n",
      "[ Epoch 32 Loss 0.6944945573209971 ]\n",
      "[ Epoch 33 Loss 0.6944945566869051 ]\n",
      "[ Epoch 34 Loss 0.6944945555679193 ]\n",
      "[ Epoch 35 Loss 0.6944945558663155 ]\n",
      "[ Epoch 36 Loss 0.6944945583280843 ]\n",
      "[ Epoch 37 Loss 0.6944945555306197 ]\n",
      "[ Epoch 38 Loss 0.6944945553814216 ]\n",
      "[ Epoch 39 Loss 0.6944945577685914 ]\n",
      "[ Epoch 40 Loss 0.6944945574701952 ]\n",
      "[ Epoch 41 Loss 0.694494557246398 ]\n",
      "[ Epoch 42 Loss 0.6944945546354311 ]\n",
      "[ Epoch 43 Loss 0.6944945550457259 ]\n",
      "[ Epoch 44 Loss 0.6944945579177895 ]\n",
      "[ Epoch 45 Loss 0.6944945559782141 ]\n",
      "[ Epoch 46 Loss 0.694494555829016 ]\n",
      "[ Epoch 47 Loss 0.6944945559782141 ]\n",
      "[ Epoch 48 Loss 0.6944945567988037 ]\n",
      "[ Epoch 49 Loss 0.6944945570226008 ]\n",
      "[ Epoch 50 Loss 0.6944945560901126 ]\n",
      "[ Epoch 51 Loss 0.6944945577312919 ]\n",
      "[ Epoch 52 Loss 0.6944945564631079 ]\n",
      "[ Epoch 53 Loss 0.6944945563512093 ]\n",
      "[ Epoch 54 Loss 0.6944945577312919 ]\n",
      "[ Epoch 55 Loss 0.6944945560901126 ]\n",
      "[ Epoch 56 Loss 0.6944945547473297 ]\n",
      "[ Epoch 57 Loss 0.6944945582161857 ]\n",
      "[ Epoch 58 Loss 0.6944945549711268 ]\n",
      "[ Epoch 59 Loss 0.6944945568734027 ]\n",
      "[ Epoch 60 Loss 0.6944945550084263 ]\n",
      "[ Epoch 61 Loss 0.6944945575447942 ]\n",
      "[ Epoch 62 Loss 0.694494555903615 ]\n",
      "[ Epoch 63 Loss 0.6944945575820937 ]\n",
      "[ Epoch 64 Loss 0.6944945571344994 ]\n",
      "[ Epoch 65 Loss 0.6944945575447942 ]\n",
      "[ Epoch 66 Loss 0.6944945568734027 ]\n",
      "[ Epoch 67 Loss 0.6944945570599004 ]\n",
      "[ Epoch 68 Loss 0.6944945567615041 ]\n",
      "[ Epoch 69 Loss 0.6944945546727306 ]\n",
      "[ Epoch 70 Loss 0.6944945567988037 ]\n",
      "[ Epoch 71 Loss 0.6944945548965278 ]\n",
      "[ Epoch 72 Loss 0.6944945579923886 ]\n",
      "[ Epoch 73 Loss 0.6944945576566928 ]\n",
      "[ Epoch 74 Loss 0.6944945550830254 ]\n",
      "[ Epoch 75 Loss 0.6944945555679193 ]\n",
      "[ Epoch 76 Loss 0.694494557246398 ]\n",
      "[ Epoch 77 Loss 0.6944945578431904 ]\n",
      "[ Epoch 78 Loss 0.6944945551203249 ]\n",
      "[ Epoch 79 Loss 0.694494556537707 ]\n",
      "[ Epoch 80 Loss 0.6944945565004075 ]\n",
      "[ Epoch 81 Loss 0.6944945578058909 ]\n",
      "[ Epoch 82 Loss 0.6944945560528131 ]\n",
      "[ Epoch 83 Loss 0.6944945556798178 ]\n",
      "[ Epoch 84 Loss 0.6944945569107023 ]\n",
      "[ Epoch 85 Loss 0.6944945569480018 ]\n",
      "[ Epoch 86 Loss 0.6944945557544169 ]\n",
      "[ Epoch 87 Loss 0.6944945565750065 ]\n",
      "[ Epoch 88 Loss 0.694494555269523 ]\n",
      "[ Epoch 89 Loss 0.6944945575820937 ]\n",
      "[ Epoch 90 Loss 0.6944945567988037 ]\n",
      "[ Epoch 91 Loss 0.6944945566869051 ]\n",
      "[ Epoch 92 Loss 0.694494556612306 ]\n",
      "[ Epoch 93 Loss 0.6944945562020112 ]\n",
      "[ Epoch 94 Loss 0.6944945561274122 ]\n",
      "[ Epoch 95 Loss 0.6944945577685914 ]\n",
      "[ Epoch 96 Loss 0.6944945566869051 ]\n",
      "[ Epoch 97 Loss 0.6944945552322235 ]\n",
      "[ Epoch 98 Loss 0.6944945545235325 ]\n",
      "[ Epoch 99 Loss 0.6944945552322235 ]\n"
     ]
    }
   ],
   "source": [
    "import torch.optim as optim\n",
    "\n",
    "model = nn.Linear(2592, 1)# MLP()\n",
    "\n",
    "criterion = nn.BCELoss()\n",
    "optimizer = optim.SGD(model.parameters(), lr=0.0001)\n",
    "\n",
    "losses = []\n",
    "\n",
    "for epoch in range(100):\n",
    "    closs = 0\n",
    "    for i in range(len(nxtrain)):\n",
    "        X = torch.Tensor(nxtrain[i])\n",
    "        y = torch.Tensor([y_train[i]])\n",
    "\n",
    "        pred = model(X)\n",
    "\n",
    "        loss = criterion(torch.clamp(torch.sigmoid(pred), min=0, max=1), y)\n",
    "\n",
    "        closs += loss.item()\n",
    "\n",
    "        optimizer.zero_grad()\n",
    "        loss.backward()\n",
    "        optimizer.step()\n",
    "\n",
    "    losses.append(closs/len(nxtrain))\n",
    "    print(f\"[ Epoch {epoch} Loss {losses[-1]} ]\")"
   ]
  },
  {
   "cell_type": "code",
   "execution_count": 20,
   "metadata": {},
   "outputs": [
    {
     "data": {
      "text/plain": [
       "[<matplotlib.lines.Line2D at 0x260a9c84460>]"
      ]
     },
     "execution_count": 20,
     "metadata": {},
     "output_type": "execute_result"
    },
    {
     "data": {
      "image/png": "[encoded data removed]",
      "text/plain": [
       "<Figure size 432x288 with 1 Axes>"
      ]
     },
     "metadata": {
      "needs_background": "light"
     },
     "output_type": "display_data"
    }
   ],
   "source": [
    "plt.plot(losses)"
   ]
  },
  {
   "cell_type": "code",
   "execution_count": 22,
   "metadata": {},
   "outputs": [],
   "source": [
    "from sklearn import svm\n",
    "\n",
    "classifier = svm.SVC()\n",
    "classifier.fit(nxtrain, y_train.astype(np.uint8))\n",
    "y_pred = classifier.predict(nxtest)"
   ]
  },
  {
   "cell_type": "code",
   "execution_count": 23,
   "metadata": {},
   "outputs": [
    {
     "name": "stdout",
     "output_type": "stream",
     "text": [
      "[[  0 207]\n",
      " [  0 193]]\n",
      "0.4825\n"
     ]
    }
   ],
   "source": [
    "from sklearn.metrics import confusion_matrix\n",
    "from sklearn.metrics import accuracy_score \n",
    "\n",
    "y_acc = y_test.astype(np.uint8)\n",
    "# y_pred = np.array(y_pred).astype(np.uint8)\n",
    "\n",
    "cmat = confusion_matrix(y_acc, y_pred)\n",
    "print(cmat)\n",
    "print(accuracy_score(y_acc, y_pred))"
   ]
  },
  {
   "cell_type": "code",
   "execution_count": 24,
   "metadata": {},
   "outputs": [
    {
     "name": "stdout",
     "output_type": "stream",
     "text": [
      "Accuracy: 48.25%\n",
      "Sensitivity/Recall: nan\n",
      "Specificity/Precision: 0.4825\n",
      "F1 Score: nan\n",
      "AUC Score: 0.5\n"
     ]
    },
    {
     "name": "stderr",
     "output_type": "stream",
     "text": [
      "C:\\Users\\Student\\AppData\\Local\\Temp\\ipykernel_15332\\2905447554.py:55: RuntimeWarning: invalid value encountered in longlong_scalars\n",
      "  recall = TP/(TP+FN)\n"
     ]
    },
    {
     "data": {
      "text/plain": [
       "[Text(0.5, 1.0, '\\nCNN Confusion Matrix\\n')]"
      ]
     },
     "execution_count": 24,
     "metadata": {},
     "output_type": "execute_result"
    },
    {
     "data": {
      "image/png": "[encoded data removed]",
      "text/plain": [
       "<Figure size 576x432 with 2 Axes>"
      ]
     },
     "metadata": {
      "needs_background": "light"
     },
     "output_type": "display_data"
    },
    {
     "ename": "",
     "evalue": "",
     "output_type": "error",
     "traceback": [
      "\u001b[1;31mThe Kernel crashed while executing code in the the current cell or a previous cell. Please review the code in the cell(s) to identify a possible cause of the failure. Click <a href='https://aka.ms/vscodeJupyterKernelCrash'>here</a> for more info. View Jupyter <a href='command:jupyter.viewOutput'>log</a> for further details."
     ]
    }
   ],
   "source": [
    "import seaborn as sn\n",
    "import pandas as pd\n",
    "import matplotlib.pyplot as plt\n",
    "import matplotlib as mpl\n",
    "from sklearn.metrics import roc_auc_score \n",
    "\n",
    "inline_rc = dict(mpl.rcParams)\n",
    "\n",
    "df_cm = pd.DataFrame(cmat, index=[\"Malicious\", \"Benign\"], columns = [\"Malicious\", \"Benign\"])\n",
    "\n",
    "# plt.figure()\n",
    "# plt.imshow(cmat, interpolation='nearest', cmap=plt.cm.Blues)\n",
    "# tick_marks = np.arange(2)\n",
    "# classNames = [\"Malicious\", \"Benign\"]\n",
    "\n",
    "# # thresh = confusion_matrix.max() / 2.\n",
    "# for i in range(cmat.shape[0]):\n",
    "#     for j in range(cmat.shape[1]):\n",
    "#         plt.text(j, i, format(cmat[i, j]), \n",
    "#         ha='center', va='center', \n",
    "#         color='white' if cmat[i, j] > 100 else \"black\")\n",
    "\n",
    "# plt.tight_layout()\n",
    "# plt.colorbar()\n",
    "# plt.show()\n",
    "plt.figure(figsize=(8, 6))\n",
    "# sn.heatmap(df_cm, annot=True, cmap='YlGnBu')# , cmap=\"blue\")\n",
    "sn.set(font_scale=1.2)\n",
    "# sn.set(font=\"Verdana\")\n",
    "\n",
    "'''\n",
    "y_pred = []\n",
    "\n",
    "for i in range(len(nxtest)):\n",
    "    arr = nxtest[i]\n",
    "\n",
    "    arr = [arr[:, :, 0], arr[:, :, 1], arr[:, :, 2]]\n",
    "\n",
    "    pred = model(torch.Tensor(arr))\n",
    "\n",
    "    pred = pred.cpu().detach().numpy()[0]\n",
    "\n",
    "    y_pred.append(pred)\n",
    "\n",
    "y_b_pred = (np.array(y_pred) > 0.5)*1\n",
    "'''\n",
    "y_b_pred = (np.array(y_pred) > 0.5)*1\n",
    "\n",
    "TP = cmat[0, 0]\n",
    "FP = cmat[0, 1]\n",
    "FN = cmat[1, 0]\n",
    "TN = cmat[1, 1]\n",
    "\n",
    "# what proportion of positive class was correclty classified\n",
    "recall = TP/(TP+FN)\n",
    "# what proportion of negative class was correctly classified\n",
    "precision = TN/(TN+FP)\n",
    "\n",
    "f1_score = 2*(precision*recall)/(precision+recall) \n",
    "\n",
    "auc = roc_auc_score(y_test.astype(np.uint8), y_pred)\n",
    "\n",
    "print(f\"Accuracy: {accuracy_score(y_acc, y_b_pred) * 100}%\")\n",
    "print(f\"Sensitivity/Recall: {round(recall, 4)}\")\n",
    "print(f\"Specificity/Precision: {round(precision, 4)}\")\n",
    "print(f\"F1 Score: {round(f1_score, 4)}\")\n",
    "print(f\"AUC Score: {round(auc, 4)}\")\n",
    "\n",
    "sn.heatmap(df_cm, annot=True, cmap='YlGnBu', fmt='d').set(title='\\nCNN Confusion Matrix\\n')"
   ]
  },
  {
   "cell_type": "code",
   "execution_count": 36,
   "metadata": {},
   "outputs": [
    {
     "data": {
      "text/plain": [
       "Text(0, 0.5, 'True Positive Rate')"
      ]
     },
     "execution_count": 36,
     "metadata": {},
     "output_type": "execute_result"
    },
    {
     "data": {
      "image/png": "[encoded data removed]",
      "text/plain": [
       "<Figure size 432x288 with 1 Axes>"
      ]
     },
     "metadata": {},
     "output_type": "display_data"
    }
   ],
   "source": [
    "from sklearn.metrics import roc_curve\n",
    "from sklearn.metrics import roc_auc_score \n",
    "\n",
    "fpr, tpr, thresholds = roc_curve(y_test.astype(np.uint8), y_pred) \n",
    "\n",
    "plt.plot(fpr, tpr)\n",
    "plt.title('ROC Curve')\n",
    "plt.xlabel('False Positive Rate')\n",
    "plt.ylabel('True Positive Rate')"
   ]
  }
 ],
 "metadata": {
  "kernelspec": {
   "display_name": "Python 3.10.5 64-bit (windows store)",
   "language": "python",
   "name": "python3"
  },
  "language_info": {
   "codemirror_mode": {
    "name": "ipython",
    "version": 3
   },
   "file_extension": ".py",
   "mimetype": "text/x-python",
   "name": "python",
   "nbconvert_exporter": "python",
   "pygments_lexer": "ipython3",
   "version": "3.10.5"
  },
  "orig_nbformat": 4,
  "vscode": {
   "interpreter": {
    "hash": "6be3f57eb9c87b6b4f6f83f778a107c8a0106eaf2d3a0c29eb7af43003741456"
   }
  }
 },
 "nbformat": 4,
 "nbformat_minor": 2
}
