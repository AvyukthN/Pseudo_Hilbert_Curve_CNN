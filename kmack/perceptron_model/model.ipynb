{
 "cells": [
  {
   "cell_type": "code",
   "execution_count": 525,
   "metadata": {},
   "outputs": [],
   "source": [
    "import pandas as pd\n",
    "import numpy as np\n",
    "import matplotlib.pyplot as plt\n",
    "import sklearn.impute as im"
   ]
  },
  {
   "cell_type": "code",
   "execution_count": 526,
   "metadata": {},
   "outputs": [
    {
     "name": "stderr",
     "output_type": "stream",
     "text": [
      "C:\\Users\\Student\\AppData\\Local\\Packages\\PythonSoftwareFoundation.Python.3.10_qbz5n2kfra8p0\\LocalCache\\local-packages\\Python310\\site-packages\\sklearn\\base.py:450: UserWarning: X does not have valid feature names, but SimpleImputer was fitted with feature names\n",
      "  warnings.warn(\n"
     ]
    },
    {
     "data": {
      "text/html": [
       "<div>\n",
       "<style scoped>\n",
       "    .dataframe tbody tr th:only-of-type {\n",
       "        vertical-align: middle;\n",
       "    }\n",
       "\n",
       "    .dataframe tbody tr th {\n",
       "        vertical-align: top;\n",
       "    }\n",
       "\n",
       "    .dataframe thead th {\n",
       "        text-align: right;\n",
       "    }\n",
       "</style>\n",
       "<table border=\"1\" class=\"dataframe\">\n",
       "  <thead>\n",
       "    <tr style=\"text-align: right;\">\n",
       "      <th></th>\n",
       "      <th>App</th>\n",
       "      <th>Translated_Review</th>\n",
       "      <th>Sentiment</th>\n",
       "      <th>Sentiment_Polarity</th>\n",
       "      <th>Sentiment_Subjectivity</th>\n",
       "      <th>Rating</th>\n",
       "    </tr>\n",
       "  </thead>\n",
       "  <tbody>\n",
       "    <tr>\n",
       "      <th>0</th>\n",
       "      <td>Calorie Counter - MyNetDiary</td>\n",
       "      <td>This wonderful works great I wish I could pay ...</td>\n",
       "      <td>Positive</td>\n",
       "      <td>0.900000</td>\n",
       "      <td>0.875000</td>\n",
       "      <td>4.500000</td>\n",
       "    </tr>\n",
       "    <tr>\n",
       "      <th>1</th>\n",
       "      <td>Down Dog: Great Yoga Anywhere</td>\n",
       "      <td>This really useful. I using minutes everyday w...</td>\n",
       "      <td>Positive</td>\n",
       "      <td>0.151905</td>\n",
       "      <td>0.351667</td>\n",
       "      <td>4.900000</td>\n",
       "    </tr>\n",
       "    <tr>\n",
       "      <th>2</th>\n",
       "      <td>8 Ball Pool</td>\n",
       "      <td>I previous profile however updates I lost 1.5 ...</td>\n",
       "      <td>Negative</td>\n",
       "      <td>-0.572917</td>\n",
       "      <td>0.741667</td>\n",
       "      <td>4.500000</td>\n",
       "    </tr>\n",
       "    <tr>\n",
       "      <th>3</th>\n",
       "      <td>10 Best Foods for You</td>\n",
       "      <td>Doesn't work... Zero</td>\n",
       "      <td>Neutral</td>\n",
       "      <td>0.000000</td>\n",
       "      <td>0.000000</td>\n",
       "      <td>4.000000</td>\n",
       "    </tr>\n",
       "    <tr>\n",
       "      <th>4</th>\n",
       "      <td>Curso de Ingles Gratis</td>\n",
       "      <td>Great</td>\n",
       "      <td>Positive</td>\n",
       "      <td>0.800000</td>\n",
       "      <td>0.750000</td>\n",
       "      <td>3.998583</td>\n",
       "    </tr>\n",
       "    <tr>\n",
       "      <th>...</th>\n",
       "      <td>...</td>\n",
       "      <td>...</td>\n",
       "      <td>...</td>\n",
       "      <td>...</td>\n",
       "      <td>...</td>\n",
       "      <td>...</td>\n",
       "    </tr>\n",
       "    <tr>\n",
       "      <th>37422</th>\n",
       "      <td>Google Photos</td>\n",
       "      <td>Google photos useful app. It various things su...</td>\n",
       "      <td>Positive</td>\n",
       "      <td>0.410000</td>\n",
       "      <td>0.560000</td>\n",
       "      <td>4.500000</td>\n",
       "    </tr>\n",
       "    <tr>\n",
       "      <th>37423</th>\n",
       "      <td>Fraction Calculator Plus Free</td>\n",
       "      <td>This awesome, helped lot things,it really work...</td>\n",
       "      <td>Positive</td>\n",
       "      <td>0.566667</td>\n",
       "      <td>0.600000</td>\n",
       "      <td>4.500000</td>\n",
       "    </tr>\n",
       "    <tr>\n",
       "      <th>37424</th>\n",
       "      <td>Backgrounds HD (Wallpapers)</td>\n",
       "      <td>Rubbish</td>\n",
       "      <td>Neutral</td>\n",
       "      <td>0.000000</td>\n",
       "      <td>0.000000</td>\n",
       "      <td>4.600000</td>\n",
       "    </tr>\n",
       "    <tr>\n",
       "      <th>37425</th>\n",
       "      <td>Candy Crush Soda Saga</td>\n",
       "      <td>The game progressively challenging fun. The po...</td>\n",
       "      <td>Negative</td>\n",
       "      <td>-0.042500</td>\n",
       "      <td>0.547500</td>\n",
       "      <td>4.400000</td>\n",
       "    </tr>\n",
       "    <tr>\n",
       "      <th>37426</th>\n",
       "      <td>Google Keep</td>\n",
       "      <td>Can please make default shopping list making G...</td>\n",
       "      <td>Negative</td>\n",
       "      <td>-0.800000</td>\n",
       "      <td>0.900000</td>\n",
       "      <td>4.400000</td>\n",
       "    </tr>\n",
       "  </tbody>\n",
       "</table>\n",
       "<p>37427 rows × 6 columns</p>\n",
       "</div>"
      ],
      "text/plain": [
       "                                 App  \\\n",
       "0       Calorie Counter - MyNetDiary   \n",
       "1      Down Dog: Great Yoga Anywhere   \n",
       "2                        8 Ball Pool   \n",
       "3              10 Best Foods for You   \n",
       "4             Curso de Ingles Gratis   \n",
       "...                              ...   \n",
       "37422                  Google Photos   \n",
       "37423  Fraction Calculator Plus Free   \n",
       "37424    Backgrounds HD (Wallpapers)   \n",
       "37425          Candy Crush Soda Saga   \n",
       "37426                    Google Keep   \n",
       "\n",
       "                                       Translated_Review Sentiment  \\\n",
       "0      This wonderful works great I wish I could pay ...  Positive   \n",
       "1      This really useful. I using minutes everyday w...  Positive   \n",
       "2      I previous profile however updates I lost 1.5 ...  Negative   \n",
       "3                                   Doesn't work... Zero   Neutral   \n",
       "4                                                  Great  Positive   \n",
       "...                                                  ...       ...   \n",
       "37422  Google photos useful app. It various things su...  Positive   \n",
       "37423  This awesome, helped lot things,it really work...  Positive   \n",
       "37424                                            Rubbish   Neutral   \n",
       "37425  The game progressively challenging fun. The po...  Negative   \n",
       "37426  Can please make default shopping list making G...  Negative   \n",
       "\n",
       "       Sentiment_Polarity  Sentiment_Subjectivity    Rating  \n",
       "0                0.900000                0.875000  4.500000  \n",
       "1                0.151905                0.351667  4.900000  \n",
       "2               -0.572917                0.741667  4.500000  \n",
       "3                0.000000                0.000000  4.000000  \n",
       "4                0.800000                0.750000  3.998583  \n",
       "...                   ...                     ...       ...  \n",
       "37422            0.410000                0.560000  4.500000  \n",
       "37423            0.566667                0.600000  4.500000  \n",
       "37424            0.000000                0.000000  4.600000  \n",
       "37425           -0.042500                0.547500  4.400000  \n",
       "37426           -0.800000                0.900000  4.400000  \n",
       "\n",
       "[37427 rows x 6 columns]"
      ]
     },
     "execution_count": 526,
     "metadata": {},
     "output_type": "execute_result"
    }
   ],
   "source": [
    "df = pd.read_csv('./model_data.csv')\n",
    "\n",
    "new_df = pd.DataFrame({\n",
    "    'Sentiment_Polarity': df['Sentiment_Polarity'],\n",
    "    'Sentiment_Subjectivity': df['Sentiment_Subjectivity'],\n",
    "    'Rating': df['Rating']\n",
    "})\n",
    "\n",
    "imputer = im.SimpleImputer(missing_values=pd.NA, strategy='mean')\n",
    "imputer = imputer.fit(new_df)\n",
    "imputed_df = imputer.transform(new_df.values)\n",
    "\n",
    "spolar = imputed_df[:, 0]\n",
    "subj = imputed_df[:, 1]\n",
    "rat = imputed_df[:, 2]\n",
    "\n",
    "df['Sentiment_Polarity'] = spolar\n",
    "df['Sentiment_Subjectivity'] = subj\n",
    "df['Rating'] = rat\n",
    "\n",
    "df = df.dropna()\n",
    "\n",
    "df = df.sample(frac=1).reset_index(drop=True)\n",
    "df"
   ]
  },
  {
   "cell_type": "code",
   "execution_count": 527,
   "metadata": {},
   "outputs": [
    {
     "name": "stdout",
     "output_type": "stream",
     "text": [
      "11\n",
      "345\n"
     ]
    },
    {
     "data": {
      "text/plain": [
       "(array([2486.,    0.,    0.,    0.,    0.,    0.,    0.,    0.,    0.,\n",
       "           0.,    0.,    0.,    0.,    0.,    0.,    0.,    0.,    0.,\n",
       "           0.,    0.,    0.,    0.,    0.,    0.,    0.,    0.,   31.,\n",
       "          65.,    0.,    0.,   63.,  120.,   39.,   64.,  240.,  300.,\n",
       "         216.,  563.,  766., 1341., 3453., 2799., 3703., 4914., 4948.,\n",
       "        4547., 4204., 2212.,  313.,   40.]),\n",
       " array([0.   , 0.098, 0.196, 0.294, 0.392, 0.49 , 0.588, 0.686, 0.784,\n",
       "        0.882, 0.98 , 1.078, 1.176, 1.274, 1.372, 1.47 , 1.568, 1.666,\n",
       "        1.764, 1.862, 1.96 , 2.058, 2.156, 2.254, 2.352, 2.45 , 2.548,\n",
       "        2.646, 2.744, 2.842, 2.94 , 3.038, 3.136, 3.234, 3.332, 3.43 ,\n",
       "        3.528, 3.626, 3.724, 3.822, 3.92 , 4.018, 4.116, 4.214, 4.312,\n",
       "        4.41 , 4.508, 4.606, 4.704, 4.802, 4.9  ]),\n",
       " <BarContainer object of 50 artists>)"
      ]
     },
     "execution_count": 527,
     "metadata": {},
     "output_type": "execute_result"
    },
    {
     "data": {
      "image/png": "[encoded data removed]",
      "text/plain": [
       "<Figure size 432x288 with 1 Axes>"
      ]
     },
     "metadata": {
      "needs_background": "light"
     },
     "output_type": "display_data"
    }
   ],
   "source": [
    "ratings = np.array(list(df['Rating']))\n",
    "\n",
    "# enc_ratings = []\n",
    "# encoder = np.array([0, 1, 2, 3, 4, 5])\n",
    "# for i in range(len(ratings)):\n",
    "#     rating = ratings[i]\n",
    "\n",
    "#     enc_ratings.append((encoder == rating) * 1)\n",
    "\n",
    "applen = []\n",
    "app_names = list(df['App'])\n",
    "for i in range(len(app_names)):\n",
    "    length = len(app_names[i].split(' '))\n",
    "\n",
    "    applen.append(length)\n",
    "\n",
    "max_applen = np.max(applen)\n",
    "applen = np.array(applen)/max_applen\n",
    "\n",
    "wordlen = []\n",
    "revs = list(df['Translated_Review'])\n",
    "for i in range(len(revs)):\n",
    "    length = len(revs[i].split(' '))\n",
    "\n",
    "    wordlen.append(length)\n",
    "\n",
    "max_wordlen = np.max(wordlen)\n",
    "wordlen = np.array(wordlen)/max_wordlen\n",
    "\n",
    "print(max_applen)\n",
    "print(max_wordlen)\n",
    "\n",
    "sentiment = ((np.array(list(df['Sentiment'])) == \"Positive\") * 1) + ((np.array(list(df['Sentiment'])) == \"Negative\") * 1 * -1)\n",
    "spolarity = list(df['Sentiment_Polarity'])\n",
    "subjectivity = list(df['Sentiment_Subjectivity'])\n",
    "plt.hist(ratings, bins=50)"
   ]
  },
  {
   "cell_type": "code",
   "execution_count": 528,
   "metadata": {},
   "outputs": [
    {
     "data": {
      "text/plain": [
       "Rating  \n",
       "4.400000    4948\n",
       "4.300000    4914\n",
       "4.500000    4547\n",
       "4.600000    4204\n",
       "4.200000    3703\n",
       "4.100000    2799\n",
       "0.000000    2486\n",
       "4.700000    2212\n",
       "4.000000    1955\n",
       "3.998583    1498\n",
       "3.900000    1341\n",
       "3.800000     766\n",
       "3.700000     563\n",
       "4.800000     313\n",
       "3.500000     300\n",
       "3.400000     240\n",
       "3.600000     216\n",
       "3.100000     120\n",
       "2.700000      65\n",
       "3.300000      64\n",
       "3.000000      63\n",
       "4.900000      40\n",
       "3.200000      39\n",
       "2.600000      31\n",
       "dtype: int64"
      ]
     },
     "execution_count": 528,
     "metadata": {},
     "output_type": "execute_result"
    }
   ],
   "source": [
    "df.value_counts(subset=[\"Rating\"])"
   ]
  },
  {
   "cell_type": "code",
   "execution_count": 529,
   "metadata": {},
   "outputs": [
    {
     "data": {
      "text/plain": [
       "<matplotlib.collections.PathCollection at 0x1d60bf25390>"
      ]
     },
     "execution_count": 529,
     "metadata": {},
     "output_type": "execute_result"
    },
    {
     "data": {
      "image/png": "[encoded data removed]",
      "text/plain": [
       "<Figure size 432x288 with 1 Axes>"
      ]
     },
     "metadata": {
      "needs_background": "light"
     },
     "output_type": "display_data"
    }
   ],
   "source": [
    "plt.scatter(spolarity, ratings)"
   ]
  },
  {
   "cell_type": "code",
   "execution_count": 530,
   "metadata": {},
   "outputs": [
    {
     "data": {
      "text/plain": [
       "<matplotlib.collections.PathCollection at 0x1d60bf6d420>"
      ]
     },
     "execution_count": 530,
     "metadata": {},
     "output_type": "execute_result"
    },
    {
     "data": {
      "image/png": "[encoded data removed]",
      "text/plain": [
       "<Figure size 432x288 with 1 Axes>"
      ]
     },
     "metadata": {
      "needs_background": "light"
     },
     "output_type": "display_data"
    }
   ],
   "source": [
    "plt.scatter(subjectivity, ratings)"
   ]
  },
  {
   "cell_type": "code",
   "execution_count": 531,
   "metadata": {},
   "outputs": [
    {
     "data": {
      "text/plain": [
       "<matplotlib.collections.PathCollection at 0x1d60bfd8280>"
      ]
     },
     "execution_count": 531,
     "metadata": {},
     "output_type": "execute_result"
    },
    {
     "data": {
      "image/png": "[encoded data removed]",
      "text/plain": [
       "<Figure size 432x288 with 1 Axes>"
      ]
     },
     "metadata": {
      "needs_background": "light"
     },
     "output_type": "display_data"
    }
   ],
   "source": [
    "plt.scatter(spolarity, subjectivity)"
   ]
  },
  {
   "cell_type": "code",
   "execution_count": 532,
   "metadata": {},
   "outputs": [
    {
     "data": {
      "text/plain": [
       "<matplotlib.collections.PathCollection at 0x1d60e724520>"
      ]
     },
     "execution_count": 532,
     "metadata": {},
     "output_type": "execute_result"
    },
    {
     "data": {
      "image/png": "[encoded data removed]",
      "text/plain": [
       "<Figure size 432x288 with 1 Axes>"
      ]
     },
     "metadata": {
      "needs_background": "light"
     },
     "output_type": "display_data"
    }
   ],
   "source": [
    "sent = (np.array(list(df['Sentiment'])) == \"Positive\") * 1\n",
    "plt.scatter(sent, ratings)"
   ]
  },
  {
   "cell_type": "code",
   "execution_count": 533,
   "metadata": {},
   "outputs": [],
   "source": [
    "import torch\n",
    "import torch.nn as nn\n",
    "import torch.optim as optim\n",
    "import torch.nn.functional as F\n",
    "\n",
    "class NN(nn.Module):\n",
    "    def __init__(self, input_size):\n",
    "        super().__init__()\n",
    "        self.inp = nn.Linear(input_size, 1)\n",
    "        # self.h1 = nn.Linear(5, 5)\n",
    "        self.out = nn.Linear(1, 1)\n",
    "    \n",
    "    def forward(self, x):\n",
    "        x = torch.sigmoid(self.inp(x))\n",
    "        # x = F.sigmoid(self.h1(x))\n",
    "        x = self.out(x)\n",
    "\n",
    "        return x\n",
    "\n",
    "class NN2(nn.Module):\n",
    "    def __init__(self, input_size):\n",
    "        super().__init__()\n",
    "        self.inp = nn.LSTM(input_size, 32, 2)\n",
    "        self.l1 = nn.Linear(32, 16)\n",
    "        self.l2 = nn.Linear(16, 1)\n",
    "\n",
    "    def forward(self, x):\n",
    "        print(x)\n",
    "        x = self.inp(x)\n",
    "        x = self.l1(x)\n",
    "        return self.l2(x)"
   ]
  },
  {
   "cell_type": "code",
   "execution_count": 534,
   "metadata": {},
   "outputs": [
    {
     "name": "stdout",
     "output_type": "stream",
     "text": [
      "<class 'torch.nn.modules.rnn.LSTM'>\n"
     ]
    }
   ],
   "source": [
    "print(torch.nn.LSTM)"
   ]
  },
  {
   "cell_type": "code",
   "execution_count": 550,
   "metadata": {},
   "outputs": [
    {
     "name": "stdout",
     "output_type": "stream",
     "text": [
      "[ Data pt 100 Loss 11.511628150939941 ]\n",
      "[ Data pt 201 Loss 10.855570793151855 ]\n",
      "[ Data pt 300 Loss 5.670740604400635 ]\n",
      "[ Data pt 400 Loss 5.201915264129639 ]\n",
      "[ Data pt 501 Loss 2.550394058227539 ]\n",
      "[ Data pt 601 Loss 1.0642791986465454 ]\n",
      "[ Data pt 700 Loss 0.05121859535574913 ]\n",
      "[ Data pt 895 Loss 0.0009781128028407693 ]\n",
      "[ Data pt 992 Loss 0.0005567172192968428 ]\n",
      "[ Data pt 1240 Loss 8.985683234641328e-05 ]\n",
      "[ Data pt 1339 Loss 2.2723726942786016e-05 ]\n",
      "[ Data pt 1647 Loss 6.963318810448982e-07 ]\n",
      "[ Data pt 4555 Loss 4.0583836380392313e-07 ]\n",
      "[ Data pt 6294 Loss 1.2636752444450394e-07 ]\n",
      "[ Data pt 10186 Loss 1.2066999488524743e-07 ]\n",
      "[ Data pt 10487 Loss 4.502567207964603e-08 ]\n",
      "[ Data pt 11472 Loss 1.58470356836915e-08 ]\n",
      "[ Data pt 12373 Loss 1.4917986845830455e-09 ]\n",
      "[ Data pt 12936 Loss 1.2116743164369836e-09 ]\n",
      "[ Data pt 13594 Loss 6.571099220309407e-11 ]\n",
      "[ Data pt 26936 Loss 5.684341886080802e-14 ]\n",
      "5.684341886080802e-14\n",
      "5.684341886080802e-14\n",
      "5.684341886080802e-14\n",
      "5.684341886080802e-14\n",
      "5.684341886080802e-14\n",
      "5.684341886080802e-14\n",
      "5.684341886080802e-14\n",
      "5.684341886080802e-14\n",
      "5.684341886080802e-14\n",
      "5.684341886080802e-14\n",
      "5.684341886080802e-14\n",
      "5.684341886080802e-14\n",
      "5.684341886080802e-14\n",
      "5.684341886080802e-14\n",
      "5.684341886080802e-14\n",
      "5.684341886080802e-14\n",
      "5.684341886080802e-14\n",
      "5.684341886080802e-14\n",
      "5.684341886080802e-14\n",
      "5.684341886080802e-14\n",
      "5.684341886080802e-14\n",
      "5.684341886080802e-14\n",
      "5.684341886080802e-14\n",
      "5.684341886080802e-14\n",
      "5.684341886080802e-14\n",
      "5.684341886080802e-14\n",
      "5.684341886080802e-14\n",
      "5.684341886080802e-14\n",
      "5.684341886080802e-14\n",
      "5.684341886080802e-14\n",
      "5.684341886080802e-14\n",
      "5.684341886080802e-14\n",
      "5.684341886080802e-14\n",
      "5.684341886080802e-14\n",
      "5.684341886080802e-14\n",
      "5.684341886080802e-14\n",
      "5.684341886080802e-14\n",
      "5.684341886080802e-14\n",
      "5.684341886080802e-14\n",
      "5.684341886080802e-14\n",
      "5.684341886080802e-14\n",
      "5.684341886080802e-14\n",
      "5.684341886080802e-14\n",
      "5.684341886080802e-14\n",
      "5.684341886080802e-14\n",
      "5.684341886080802e-14\n",
      "5.684341886080802e-14\n",
      "5.684341886080802e-14\n",
      "5.684341886080802e-14\n",
      "5.684341886080802e-14\n",
      "5.684341886080802e-14\n",
      "5.684341886080802e-14\n",
      "5.684341886080802e-14\n",
      "5.684341886080802e-14\n",
      "5.684341886080802e-14\n",
      "5.684341886080802e-14\n",
      "5.684341886080802e-14\n",
      "5.684341886080802e-14\n",
      "5.684341886080802e-14\n",
      "5.684341886080802e-14\n",
      "5.684341886080802e-14\n",
      "5.684341886080802e-14\n",
      "5.684341886080802e-14\n",
      "5.684341886080802e-14\n",
      "5.684341886080802e-14\n",
      "5.684341886080802e-14\n",
      "5.684341886080802e-14\n",
      "5.684341886080802e-14\n",
      "5.684341886080802e-14\n",
      "5.684341886080802e-14\n",
      "5.684341886080802e-14\n",
      "5.684341886080802e-14\n",
      "5.684341886080802e-14\n",
      "5.684341886080802e-14\n",
      "5.684341886080802e-14\n",
      "5.684341886080802e-14\n",
      "5.684341886080802e-14\n",
      "5.684341886080802e-14\n",
      "5.684341886080802e-14\n",
      "5.684341886080802e-14\n",
      "5.684341886080802e-14\n",
      "5.684341886080802e-14\n",
      "5.684341886080802e-14\n",
      "5.684341886080802e-14\n",
      "5.684341886080802e-14\n",
      "5.684341886080802e-14\n",
      "5.684341886080802e-14\n",
      "5.684341886080802e-14\n",
      "5.684341886080802e-14\n",
      "5.684341886080802e-14\n",
      "5.684341886080802e-14\n",
      "5.684341886080802e-14\n",
      "5.684341886080802e-14\n",
      "5.684341886080802e-14\n",
      "5.684341886080802e-14\n",
      "5.684341886080802e-14\n",
      "5.684341886080802e-14\n",
      "5.684341886080802e-14\n",
      "5.684341886080802e-14\n",
      "5.684341886080802e-14\n"
     ]
    }
   ],
   "source": [
    "epochs = 100\n",
    "\n",
    "model = NN(input_size=5)\n",
    "\n",
    "cutoff = 100\n",
    "\n",
    "data = zip(zip(applen/11, wordlen/345, sentiment, spolarity, subjectivity), ratings)\n",
    "criterion = nn.MSELoss()\n",
    "optimizer = optim.SGD(model.parameters(), lr=0.001 , momentum=0.01)\n",
    "\n",
    "losses = []\n",
    "\n",
    "min_loss = float('inf')\n",
    "search_for_min = False\n",
    "\n",
    "for _ in range(100):\n",
    "    count = 0\n",
    "    for training_ex, y in data:\n",
    "        t_X = torch.Tensor(training_ex)\n",
    "        t_y = torch.Tensor([y])\n",
    "\n",
    "        preds = model(t_X)\n",
    "\n",
    "        loss = criterion(preds, t_y)\n",
    "\n",
    "        losses.append(loss.item())\n",
    "\n",
    "        optimizer.zero_grad()\n",
    "        loss.backward()\n",
    "        optimizer.step()\n",
    "\n",
    "        count += 1\n",
    "\n",
    "        if count % 100 == 0:\n",
    "            search_for_min = True\n",
    "\n",
    "        if search_for_min:\n",
    "            if loss.item() < min_loss:\n",
    "                min_loss = loss.item()\n",
    "                torch.save(model.state_dict(), f'./model')\n",
    "                print(f'[ Data pt {count} Loss {loss.item()} ]')\n",
    "\n",
    "                search_for_min = False\n",
    "\n",
    "        # if count == 17500:\n",
    "        #     break\n",
    "        # if count == cutoff:\n",
    "        #     break\n",
    "\n",
    "    print(min_loss)"
   ]
  },
  {
   "cell_type": "code",
   "execution_count": 551,
   "metadata": {},
   "outputs": [
    {
     "data": {
      "text/plain": [
       "[<matplotlib.lines.Line2D at 0x1d60e944e20>]"
      ]
     },
     "execution_count": 551,
     "metadata": {},
     "output_type": "execute_result"
    },
    {
     "data": {
      "image/png": "[encoded data removed]",
      "text/plain": [
       "<Figure size 432x288 with 1 Axes>"
      ]
     },
     "metadata": {
      "needs_background": "light"
     },
     "output_type": "display_data"
    }
   ],
   "source": [
    "plt.plot([i for i in range(len(losses))], losses)"
   ]
  },
  {
   "cell_type": "code",
   "execution_count": 552,
   "metadata": {},
   "outputs": [
    {
     "name": "stdout",
     "output_type": "stream",
     "text": [
      "tensor([16.4811], grad_fn=<PowBackward0>)\n",
      "tensor([45726.9219], grad_fn=<AddBackward0>)\n",
      "avg loss per pred tensor([1.2250], grad_fn=<DivBackward0>)\n"
     ]
    }
   ],
   "source": [
    "nmodel = NN(input_size=5)\n",
    "nmodel.load_state_dict(torch.load('./model'))\n",
    "\n",
    "total_loss = 0\n",
    "\n",
    "max_loss = 0\n",
    "for i in range(cutoff+1, len(ratings)):\n",
    "    X = torch.Tensor([applen[i], wordlen[i], sentiment[i], spolarity[i], subjectivity[i]])\n",
    "    pred = nmodel(X)\n",
    "\n",
    "    curr_loss = ((pred) - (ratings[i])) ** 2 \n",
    "\n",
    "    if curr_loss > max_loss:\n",
    "        max_loss = curr_loss\n",
    "    if curr_loss > 400:\n",
    "        print(X, pred)\n",
    "\n",
    "    total_loss += curr_loss\n",
    "\n",
    "print(max_loss)\n",
    "print(total_loss)\n",
    "print(f\"avg loss per pred {total_loss/(len(ratings) - cutoff+1)}\")"
   ]
  },
  {
   "cell_type": "code",
   "execution_count": 553,
   "metadata": {},
   "outputs": [
    {
     "name": "stdout",
     "output_type": "stream",
     "text": [
      "tensor([3.9593], grad_fn=<AddBackward0>)\n",
      "tensor([3.9604], grad_fn=<AddBackward0>)\n"
     ]
    }
   ],
   "source": [
    "print(nmodel(torch.Tensor([4/11, 1/345, 1, 0.6, 1])))\n",
    "\n",
    "print(nmodel(torch.Tensor([4/11, 12/345, 1, 0.55903, 0.61111])))"
   ]
  }
 ],
 "metadata": {
  "kernelspec": {
   "display_name": "Python 3.10.5 64-bit (windows store)",
   "language": "python",
   "name": "python3"
  },
  "language_info": {
   "codemirror_mode": {
    "name": "ipython",
    "version": 3
   },
   "file_extension": ".py",
   "mimetype": "text/x-python",
   "name": "python",
   "nbconvert_exporter": "python",
   "pygments_lexer": "ipython3",
   "version": "3.10.5"
  },
  "orig_nbformat": 4,
  "vscode": {
   "interpreter": {
    "hash": "6be3f57eb9c87b6b4f6f83f778a107c8a0106eaf2d3a0c29eb7af43003741456"
   }
  }
 },
 "nbformat": 4,
 "nbformat_minor": 2
}
